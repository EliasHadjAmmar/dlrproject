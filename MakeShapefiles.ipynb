{
 "cells": [
  {
   "attachments": {},
   "cell_type": "markdown",
   "metadata": {},
   "source": [
    "The below cell converts all the .gpkg files containing a specified city name into shapefiles."
   ]
  },
  {
   "cell_type": "code",
   "execution_count": 26,
   "metadata": {},
   "outputs": [
    {
     "name": "stderr",
     "output_type": "stream",
     "text": [
      "/var/folders/9v/qhkb598n1mv3kmfvr16ckv3m0000gn/T/ipykernel_72087/2723588118.py:21: UserWarning: Column names longer than 10 characters will be truncated when saved to ESRI Shapefile.\n",
      "  df.to_file(f\"shapefiles/{dataname}.shp\")\n",
      "/var/folders/9v/qhkb598n1mv3kmfvr16ckv3m0000gn/T/ipykernel_72087/2723588118.py:21: UserWarning: Column names longer than 10 characters will be truncated when saved to ESRI Shapefile.\n",
      "  df.to_file(f\"shapefiles/{dataname}.shp\")\n",
      "/var/folders/9v/qhkb598n1mv3kmfvr16ckv3m0000gn/T/ipykernel_72087/2723588118.py:21: UserWarning: Column names longer than 10 characters will be truncated when saved to ESRI Shapefile.\n",
      "  df.to_file(f\"shapefiles/{dataname}.shp\")\n"
     ]
    }
   ],
   "source": [
    "import geopandas as gpd\n",
    "import os\n",
    "from fnmatch import fnmatch\n",
    "\n",
    "root = 'drive/data'\n",
    "pattern = \"*Berlin*.gpkg\"\n",
    "\n",
    "paths = []\n",
    "for path, subdirs, files in os.walk(root):\n",
    "    for name in files:\n",
    "        if fnmatch(name, pattern):\n",
    "            paths.append(os.path.join(path, name))\n",
    "\n",
    "for i in paths:\n",
    "    dataname = i[5:]\n",
    "    dataname = dataname.split('/')[0]\n",
    "    df = gpd.read_file(i)\n",
    "    df.to_file(f\"drive/data/shapefiles/{dataname}.shp\")\n",
    "\n"
   ]
  }
 ],
 "metadata": {
  "kernelspec": {
   "display_name": "ifo",
   "language": "python",
   "name": "python3"
  },
  "language_info": {
   "codemirror_mode": {
    "name": "ipython",
    "version": 3
   },
   "file_extension": ".py",
   "mimetype": "text/x-python",
   "name": "python",
   "nbconvert_exporter": "python",
   "pygments_lexer": "ipython3",
   "version": "3.11.3"
  },
  "orig_nbformat": 4
 },
 "nbformat": 4,
 "nbformat_minor": 2
}
