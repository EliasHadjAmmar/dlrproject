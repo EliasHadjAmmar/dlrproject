{
 "cells": [
  {
   "cell_type": "code",
   "execution_count": 9,
   "metadata": {},
   "outputs": [],
   "source": [
    "import geopandas as gpd\n",
    "import pandas as pd"
   ]
  },
  {
   "cell_type": "code",
   "execution_count": 10,
   "metadata": {},
   "outputs": [
    {
     "data": {
      "text/html": [
       "<div>\n",
       "<style scoped>\n",
       "    .dataframe tbody tr th:only-of-type {\n",
       "        vertical-align: middle;\n",
       "    }\n",
       "\n",
       "    .dataframe tbody tr th {\n",
       "        vertical-align: top;\n",
       "    }\n",
       "\n",
       "    .dataframe thead th {\n",
       "        text-align: right;\n",
       "    }\n",
       "</style>\n",
       "<table border=\"1\" class=\"dataframe\">\n",
       "  <thead>\n",
       "    <tr style=\"text-align: right;\">\n",
       "      <th></th>\n",
       "      <th>;Grid_Code;buildings_total_units;n_occupied_by_owner;n_ownership_with_current_household;n_owned_without_current_household;n_rented_for_residential_purposes;n_rented_with_current_household;n_rented_without_current_household;n_vacation_and_leisure;n_vacant;n_diplomatic_army;n_commercial_use;we_private_individuals;we_private_companies_legal_entities;we_public_companies;we_housing_cooperative;we_does_not_apply_since_no_condominium;w_less_30;w_30_60;w_60_100;w_100_and_more;w_gewerblich;r_1;r_2;r_3;r_4;r_5;r_6;r_7_and_more;r_gewerblich;gs_buildings_with_living_space;gs_residential_buildings;gs_residential_buildings_no_dormitories;gs_dormitory;gs_other_building_with_living_space;j_before_1919;j_1919_1948;j_1949_1978;j_1979_1995;j_1996_2008;j_2009_and_later;e_community_of_apartment_owners;e_private_persons;e_housing_cooperative;e_municipality_housing_company;e_private_housing_company;e_other_private_company;e_federal_or_state_government;e_nonprofit_organization;gt_detached_house;gt_semidetached_house;gt_terraced_house;gt_other_type_of_building;gg_detached_single_family_house;gg_onefamily_semidetached;gg_onefamily_terraced_house;gg_detached_twofamily;gg_twofamily_semidetached_house;gg_twofamily_terraced_house;gg_apartment_3_6;gg_apartment_7_12;gg_apartment_13;gg_other_building_type;h_district;h_floor;h_block;h_central;h_stoves_night;h_no_heating;z_1_apart;z_2_apart;z_3_6_apart;z_7_12_apart;z_13_and_more_apart</th>\n",
       "    </tr>\n",
       "  </thead>\n",
       "  <tbody>\n",
       "    <tr>\n",
       "      <th>0</th>\n",
       "      <td>0;100mN32539E45693;0;0;0;0;0;0;0;0;0;0;0;0;0;0...</td>\n",
       "    </tr>\n",
       "    <tr>\n",
       "      <th>1</th>\n",
       "      <td>1;100mN32539E45694;0;0;0;0;0;0;0;0;0;0;0;0;0;0...</td>\n",
       "    </tr>\n",
       "    <tr>\n",
       "      <th>2</th>\n",
       "      <td>2;100mN32539E45695;0;0;0;0;0;0;0;0;0;0;0;0;0;0...</td>\n",
       "    </tr>\n",
       "    <tr>\n",
       "      <th>3</th>\n",
       "      <td>3;100mN32539E45696;0;0;0;0;0;0;0;0;0;0;0;0;0;0...</td>\n",
       "    </tr>\n",
       "    <tr>\n",
       "      <th>4</th>\n",
       "      <td>4;100mN32540E45692;0;0;0;0;0;0;0;0;0;0;0;0;0;0...</td>\n",
       "    </tr>\n",
       "    <tr>\n",
       "      <th>...</th>\n",
       "      <td>...</td>\n",
       "    </tr>\n",
       "    <tr>\n",
       "      <th>89119</th>\n",
       "      <td>89119;100mN32906E45559;0;0;0;0;0;0;0;0;0;0;0;0...</td>\n",
       "    </tr>\n",
       "    <tr>\n",
       "      <th>89120</th>\n",
       "      <td>89120;100mN32906E45560;0;0;0;0;0;0;0;0;0;0;0;0...</td>\n",
       "    </tr>\n",
       "    <tr>\n",
       "      <th>89121</th>\n",
       "      <td>89121;100mN32906E45561;0;0;0;0;0;0;0;0;0;0;0;0...</td>\n",
       "    </tr>\n",
       "    <tr>\n",
       "      <th>89122</th>\n",
       "      <td>89122;100mN32906E45562;0;0;0;0;0;0;0;0;0;0;0;0...</td>\n",
       "    </tr>\n",
       "    <tr>\n",
       "      <th>89123</th>\n",
       "      <td>89123;100mN32907E45562;0;0;0;0;0;0;0;0;0;0;0;0...</td>\n",
       "    </tr>\n",
       "  </tbody>\n",
       "</table>\n",
       "<p>89124 rows × 1 columns</p>\n",
       "</div>"
      ],
      "text/plain": [
       "      ;Grid_Code;buildings_total_units;n_occupied_by_owner;n_ownership_with_current_household;n_owned_without_current_household;n_rented_for_residential_purposes;n_rented_with_current_household;n_rented_without_current_household;n_vacation_and_leisure;n_vacant;n_diplomatic_army;n_commercial_use;we_private_individuals;we_private_companies_legal_entities;we_public_companies;we_housing_cooperative;we_does_not_apply_since_no_condominium;w_less_30;w_30_60;w_60_100;w_100_and_more;w_gewerblich;r_1;r_2;r_3;r_4;r_5;r_6;r_7_and_more;r_gewerblich;gs_buildings_with_living_space;gs_residential_buildings;gs_residential_buildings_no_dormitories;gs_dormitory;gs_other_building_with_living_space;j_before_1919;j_1919_1948;j_1949_1978;j_1979_1995;j_1996_2008;j_2009_and_later;e_community_of_apartment_owners;e_private_persons;e_housing_cooperative;e_municipality_housing_company;e_private_housing_company;e_other_private_company;e_federal_or_state_government;e_nonprofit_organization;gt_detached_house;gt_semidetached_house;gt_terraced_house;gt_other_type_of_building;gg_detached_single_family_house;gg_onefamily_semidetached;gg_onefamily_terraced_house;gg_detached_twofamily;gg_twofamily_semidetached_house;gg_twofamily_terraced_house;gg_apartment_3_6;gg_apartment_7_12;gg_apartment_13;gg_other_building_type;h_district;h_floor;h_block;h_central;h_stoves_night;h_no_heating;z_1_apart;z_2_apart;z_3_6_apart;z_7_12_apart;z_13_and_more_apart\n",
       "0      0;100mN32539E45693;0;0;0;0;0;0;0;0;0;0;0;0;0;0...                                                                                                                                                                                                                                                                                                                                                                                                                                                                                                                                                                                                                                                                                                                                                                                                                                                                                                                                                                                                                                                                                                                                                                                                                                                                                                                                                                                                                             \n",
       "1      1;100mN32539E45694;0;0;0;0;0;0;0;0;0;0;0;0;0;0...                                                                                                                                                                                                                                                                                                                                                                                                                                                                                                                                                                                                                                                                                                                                                                                                                                                                                                                                                                                                                                                                                                                                                                                                                                                                                                                                                                                                                             \n",
       "2      2;100mN32539E45695;0;0;0;0;0;0;0;0;0;0;0;0;0;0...                                                                                                                                                                                                                                                                                                                                                                                                                                                                                                                                                                                                                                                                                                                                                                                                                                                                                                                                                                                                                                                                                                                                                                                                                                                                                                                                                                                                                             \n",
       "3      3;100mN32539E45696;0;0;0;0;0;0;0;0;0;0;0;0;0;0...                                                                                                                                                                                                                                                                                                                                                                                                                                                                                                                                                                                                                                                                                                                                                                                                                                                                                                                                                                                                                                                                                                                                                                                                                                                                                                                                                                                                                             \n",
       "4      4;100mN32540E45692;0;0;0;0;0;0;0;0;0;0;0;0;0;0...                                                                                                                                                                                                                                                                                                                                                                                                                                                                                                                                                                                                                                                                                                                                                                                                                                                                                                                                                                                                                                                                                                                                                                                                                                                                                                                                                                                                                             \n",
       "...                                                  ...                                                                                                                                                                                                                                                                                                                                                                                                                                                                                                                                                                                                                                                                                                                                                                                                                                                                                                                                                                                                                                                                                                                                                                                                                                                                                                                                                                                                                             \n",
       "89119  89119;100mN32906E45559;0;0;0;0;0;0;0;0;0;0;0;0...                                                                                                                                                                                                                                                                                                                                                                                                                                                                                                                                                                                                                                                                                                                                                                                                                                                                                                                                                                                                                                                                                                                                                                                                                                                                                                                                                                                                                             \n",
       "89120  89120;100mN32906E45560;0;0;0;0;0;0;0;0;0;0;0;0...                                                                                                                                                                                                                                                                                                                                                                                                                                                                                                                                                                                                                                                                                                                                                                                                                                                                                                                                                                                                                                                                                                                                                                                                                                                                                                                                                                                                                             \n",
       "89121  89121;100mN32906E45561;0;0;0;0;0;0;0;0;0;0;0;0...                                                                                                                                                                                                                                                                                                                                                                                                                                                                                                                                                                                                                                                                                                                                                                                                                                                                                                                                                                                                                                                                                                                                                                                                                                                                                                                                                                                                                             \n",
       "89122  89122;100mN32906E45562;0;0;0;0;0;0;0;0;0;0;0;0...                                                                                                                                                                                                                                                                                                                                                                                                                                                                                                                                                                                                                                                                                                                                                                                                                                                                                                                                                                                                                                                                                                                                                                                                                                                                                                                                                                                                                             \n",
       "89123  89123;100mN32907E45562;0;0;0;0;0;0;0;0;0;0;0;0...                                                                                                                                                                                                                                                                                                                                                                                                                                                                                                                                                                                                                                                                                                                                                                                                                                                                                                                                                                                                                                                                                                                                                                                                                                                                                                                                                                                                                             \n",
       "\n",
       "[89124 rows x 1 columns]"
      ]
     },
     "execution_count": 10,
     "metadata": {},
     "output_type": "execute_result"
    }
   ],
   "source": [
    "berlin_buildings = pd.read_csv(\"/Users/giovanafalcao/Desktop/GitHub/2 Zensus/Zensus_Berlin_Buildings.csv\")\n",
    "berlin_buildings"
   ]
  }
 ],
 "metadata": {
  "kernelspec": {
   "display_name": "name_env",
   "language": "python",
   "name": "python3"
  },
  "language_info": {
   "codemirror_mode": {
    "name": "ipython",
    "version": 3
   },
   "file_extension": ".py",
   "mimetype": "text/x-python",
   "name": "python",
   "nbconvert_exporter": "python",
   "pygments_lexer": "ipython3",
   "version": "3.11.3"
  },
  "orig_nbformat": 4
 },
 "nbformat": 4,
 "nbformat_minor": 2
}
