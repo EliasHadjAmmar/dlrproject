{
 "cells": [
  {
   "cell_type": "code",
   "execution_count": 1,
   "metadata": {},
   "outputs": [],
   "source": [
    "import pandas as pd\n",
    "from sklearn.model_selection import train_test_split\n",
    "from sklearn.preprocessing import OneHotEncoder, StandardScaler\n",
    "from sklearn.ensemble import RandomForestRegressor\n",
    "from sklearn.metrics import mean_squared_error, r2_score\n",
    "from scipy.sparse import csr_matrix\n",
    "import mlflow\n",
    "\n",
    "import os\n",
    "\n",
    "os.chdir(\"/Users/eliashadjammar/GitHub/dlrproject\")"
   ]
  },
  {
   "cell_type": "code",
   "execution_count": 2,
   "metadata": {},
   "outputs": [
    {
     "name": "stdout",
     "output_type": "stream",
     "text": [
      "   Land_Value  buildings_total_units  n_occupied_by_owner  \\\n",
      "0      6998.5                   2478                    0   \n",
      "1     11756.9                   6706                    0   \n",
      "2      5312.2                   1834                    0   \n",
      "3      9779.6                  12784                    0   \n",
      "4      4236.2                   6788                    0   \n",
      "\n",
      "   n_ownership_with_current_household  n_owned_without_current_household  \\\n",
      "0                            0.055287                           0.000000   \n",
      "1                            0.071876                           0.000000   \n",
      "2                            0.043075                           0.000000   \n",
      "3                            0.137125                           0.000000   \n",
      "4                            0.151738                           0.000442   \n",
      "\n",
      "   n_rented_for_residential_purposes  n_rented_with_current_household  \\\n",
      "0                                  0                         0.920500   \n",
      "1                                  0                         0.887116   \n",
      "2                                  0                         0.860414   \n",
      "3                                  0                         0.829161   \n",
      "4                                  0                         0.800972   \n",
      "\n",
      "   n_rented_without_current_household  n_vacation_and_leisure  n_vacant  ...  \\\n",
      "0                                 0.0                0.000000  0.013317  ...   \n",
      "1                                 0.0                0.001044  0.030570  ...   \n",
      "2                                 0.0                0.001636  0.085060  ...   \n",
      "3                                 0.0                0.000469  0.029255  ...   \n",
      "4                                 0.0                0.000442  0.041397  ...   \n",
      "\n",
      "   sh_russia  sh_turkey  sh_ukraine  sh_other  sk_germany  sk_abroad  \\\n",
      "0   0.003098   0.032533    0.001549  0.182804    0.664859   0.335141   \n",
      "1   0.006427   0.051516    0.002494  0.190618    0.633922   0.365503   \n",
      "2   0.000000   0.043290    0.000000  0.269120    0.524170   0.474387   \n",
      "3   0.003291   0.010551    0.001410  0.134075    0.774992   0.225373   \n",
      "4   0.003369   0.020658    0.003635  0.133522    0.769306   0.230872   \n",
      "\n",
      "     sz_one  sz_mult_german_foreign  sz_mult_foreign_only  sz_unknown  \n",
      "0  0.921250                0.075394              0.001549    0.000000  \n",
      "1  0.909536                0.083653              0.003741    0.000672  \n",
      "2  0.943362                0.050505              0.001082    0.001082  \n",
      "3  0.933354                0.061736              0.002089    0.000313  \n",
      "4  0.911074                0.083075              0.003369    0.000000  \n",
      "\n",
      "[5 rows x 162 columns]\n"
     ]
    }
   ],
   "source": [
    "# Load and explore the data\n",
    "data = pd.read_csv(\"drive/aggregates/alldata_with_prices.csv\")\n",
    "data = data.drop('id', axis=1)\n",
    "data = data.drop('city_id', axis=1)\n",
    "data = data.drop('Neighborhood_FID', axis=1)\n",
    "print(data.head())\n"
   ]
  },
  {
   "cell_type": "code",
   "execution_count": 3,
   "metadata": {},
   "outputs": [],
   "source": [
    "# Define the input features and output variable\n",
    "features = data[['n_ownership_with_current_household', 'n_vacant',\n",
    "            'gs_residential_buildings_no_dormitories']]\n",
    "features= data\n",
    "target = data['Land_Value']"
   ]
  },
  {
   "cell_type": "code",
   "execution_count": 4,
   "metadata": {},
   "outputs": [],
   "source": [
    "# Convert the data to a sparse matrix\n",
    "X = csr_matrix(features)\n",
    "y = target"
   ]
  },
  {
   "cell_type": "code",
   "execution_count": 5,
   "metadata": {},
   "outputs": [],
   "source": [
    "# Split the data into training and testing sets\n",
    "X_train, X_test, y_train, y_test = train_test_split(X, y, test_size=0.2)"
   ]
  },
  {
   "cell_type": "code",
   "execution_count": 6,
   "metadata": {},
   "outputs": [],
   "source": [
    "# Scale the data\n",
    "scaler = StandardScaler(with_mean=False)\n",
    "X_train = scaler.fit_transform(X_train)\n",
    "X_test = scaler.transform(X_test)"
   ]
  },
  {
   "cell_type": "code",
   "execution_count": 7,
   "metadata": {},
   "outputs": [
    {
     "name": "stdout",
     "output_type": "stream",
     "text": [
      "Mean squared error: 3981945.7372644003\n",
      "R-squared: -0.3030665851943628\n"
     ]
    },
    {
     "name": "stderr",
     "output_type": "stream",
     "text": [
      "/Users/eliashadjammar/opt/anaconda3/envs/ifo/lib/python3.11/site-packages/sklearn/base.py:439: UserWarning: X does not have valid feature names, but RandomForestRegressor was fitted with feature names\n",
      "  warnings.warn(\n"
     ]
    }
   ],
   "source": [
    "model = RandomForestRegressor(n_estimators=100, max_depth=40, random_state=42)\n",
    "\n",
    "# Train the model\n",
    "model.fit(features, target)\n",
    "\n",
    "# Test the model\n",
    "y_pred = model.predict(X_test)\n",
    "mse = mean_squared_error(y_test, y_pred)\n",
    "rsquared = r2_score(y_test, y_pred)\n",
    "print('Mean squared error: {}'.format(mse))\n",
    "print('R-squared: {}'.format(rsquared))\n"
   ]
  },
  {
   "cell_type": "code",
   "execution_count": null,
   "metadata": {},
   "outputs": [],
   "source": []
  }
 ],
 "metadata": {
  "kernelspec": {
   "display_name": "ifo",
   "language": "python",
   "name": "python3"
  },
  "language_info": {
   "codemirror_mode": {
    "name": "ipython",
    "version": 3
   },
   "file_extension": ".py",
   "mimetype": "text/x-python",
   "name": "python",
   "nbconvert_exporter": "python",
   "pygments_lexer": "ipython3",
   "version": "3.11.3"
  },
  "orig_nbformat": 4
 },
 "nbformat": 4,
 "nbformat_minor": 2
}
