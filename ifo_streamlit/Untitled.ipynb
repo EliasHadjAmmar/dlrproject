{
 "cells": [
  {
   "cell_type": "code",
   "execution_count": 8,
   "id": "e9c0c1c1",
   "metadata": {},
   "outputs": [],
   "source": [
    "import streamlit as st\n",
    "import geopandas as gpd\n",
    "import folium\n",
    "import rioxarray as riox\n",
    "import numpy as np\n",
    "import matplotlib.pyplot as plt\n",
    "import os\n",
    "from streamlit_folium import folium_static\n",
    "import pandas as pd\n"
   ]
  },
  {
   "cell_type": "code",
   "execution_count": 4,
   "id": "b97f1af6",
   "metadata": {},
   "outputs": [],
   "source": [
    "# Read in GeoPackage files\n",
    "neighborhoods_bremen = gpd.read_file(\"/Users/nathan/Desktop/ifo_streamlit/Example_Bremen_Land_Values_Neighborhood.gpkg\")\n",
    "buildings_bremen = gpd.read_file(\"/Users/nathan/Desktop/ifo_streamlit/Example_Bremen_Buildings.gpkg\")"
   ]
  },
  {
   "cell_type": "code",
   "execution_count": 3,
   "id": "e030e0c0",
   "metadata": {},
   "outputs": [
    {
     "name": "stderr",
     "output_type": "stream",
     "text": [
      "/var/folders/ll/r7g22gyj5n9bp2_rr_3tnxb40000gn/T/ipykernel_7155/318534180.py:2: FutureWarning: Currently, index_parts defaults to True, but in the future, it will default to False to be consistent with Pandas. Use `index_parts=True` to keep the current behavior and True/False to silence the warning.\n",
      "  neighborhoods_bremen[\"geometry\"] = neighborhoods_bremen[\"geometry\"].explode().unary_union\n",
      "/var/folders/ll/r7g22gyj5n9bp2_rr_3tnxb40000gn/T/ipykernel_7155/318534180.py:3: FutureWarning: Currently, index_parts defaults to True, but in the future, it will default to False to be consistent with Pandas. Use `index_parts=True` to keep the current behavior and True/False to silence the warning.\n",
      "  buildings_bremen[\"geometry\"] = buildings_bremen[\"geometry\"].explode().unary_union\n"
     ]
    }
   ],
   "source": [
    "# Convert MULTIPOLYGON to Polygon geometry\n",
    "neighborhoods_bremen[\"geometry\"] = neighborhoods_bremen[\"geometry\"].explode().unary_union\n",
    "buildings_bremen[\"geometry\"] = buildings_bremen[\"geometry\"].explode().unary_union"
   ]
  },
  {
   "cell_type": "code",
   "execution_count": null,
   "id": "3d77802f",
   "metadata": {},
   "outputs": [],
   "source": [
    "m = neighborhoods_bremen.explore(height=500, width=1000, name=\"Neighborhoods\")\n",
    "m = buildings_bremen.explore(m=m, color=\"red\", name=\"Buildings\")\n",
    "\n",
    "folium.LayerControl().add_to(m)\n",
    "m"
   ]
  },
  {
   "cell_type": "code",
   "execution_count": null,
   "id": "c7f696b8",
   "metadata": {},
   "outputs": [],
   "source": [
    "westend = neighborhoods_bremen.loc[neighborhoods_bremen.Neighborhood_Name == \"Westend\"]\n",
    "buildings_westend = buildings_bremen.clip(westend.geometry)"
   ]
  },
  {
   "cell_type": "code",
   "execution_count": null,
   "id": "d8aed74d",
   "metadata": {},
   "outputs": [],
   "source": [
    "m = westend.explore(height=500, width=1000, name=\"Neighborhoods\")\n",
    "m = buildings_westend.explore(m=m, color=\"red\", name=\"Buildings\")\n",
    "\n",
    "folium.LayerControl().add_to(m)\n",
    "m"
   ]
  },
  {
   "cell_type": "code",
   "execution_count": 6,
   "id": "c00da61e",
   "metadata": {},
   "outputs": [],
   "source": [
    "df =neighborhoods_bremen"
   ]
  },
  {
   "cell_type": "code",
   "execution_count": 12,
   "id": "0ccb5fdd",
   "metadata": {},
   "outputs": [
    {
     "name": "stderr",
     "output_type": "stream",
     "text": [
      "2023-04-30 00:26:59.203 \n",
      "  \u001b[33m\u001b[1mWarning:\u001b[0m to view this Streamlit app on a browser, run it with the following\n",
      "  command:\n",
      "\n",
      "    streamlit run /Users/nathan/anaconda3/envs/ifoHack/lib/python3.10/site-packages/ipykernel_launcher.py [ARGUMENTS]\n"
     ]
    },
    {
     "data": {
      "text/plain": [
       "DeltaGenerator(_root_container=0, _provided_cursor=None, _parent=None, _block_type=None, _form_data=None)"
      ]
     },
     "execution_count": 12,
     "metadata": {},
     "output_type": "execute_result"
    }
   ],
   "source": [
    "st.map(df)"
   ]
  },
  {
   "cell_type": "code",
   "execution_count": 9,
   "id": "4995f2cc",
   "metadata": {},
   "outputs": [
    {
     "name": "stderr",
     "output_type": "stream",
     "text": [
      "/var/folders/ll/r7g22gyj5n9bp2_rr_3tnxb40000gn/T/ipykernel_7869/99687581.py:1: UnicodeWarning: \n",
      "One or more strings in the dta file could not be decoded using utf-8, and\n",
      "so the fallback encoding of latin-1 is being used.  This can happen when a file\n",
      "has been incorrectly encoded by Stata or some other software. You should verify\n",
      "the string values returned are correct.\n",
      "  df = pd.read_stata('Frankfurt_buildings.dta')\n"
     ]
    }
   ],
   "source": [
    "df = pd.read_stata('Frankfurt_buildings.dta')\n"
   ]
  },
  {
   "cell_type": "code",
   "execution_count": 6,
   "id": "c1f76fbb",
   "metadata": {},
   "outputs": [
    {
     "data": {
      "text/plain": [
       "geopandas.geoseries.GeoSeries"
      ]
     },
     "execution_count": 6,
     "metadata": {},
     "output_type": "execute_result"
    }
   ],
   "source": [
    "type(neighborhoods_bremen.geometry)"
   ]
  },
  {
   "cell_type": "code",
   "execution_count": 5,
   "id": "5dd4a2d1",
   "metadata": {},
   "outputs": [
    {
     "data": {
      "text/plain": [
       "<Axes: >"
      ]
     },
     "execution_count": 5,
     "metadata": {},
     "output_type": "execute_result"
    },
    {
     "data": {
      "image/png": "[encoded data removed]",
      "text/plain": [
       "<Figure size 640x480 with 1 Axes>"
      ]
     },
     "metadata": {},
     "output_type": "display_data"
    }
   ],
   "source": [
    "neighborhoods_bremen.plot()\n"
   ]
  },
  {
   "cell_type": "code",
   "execution_count": 11,
   "id": "1432981c",
   "metadata": {},
   "outputs": [],
   "source": [
    "df[\"lat\"]=df[\"_CX\"]\n",
    "df['lon']=df['_CY']"
   ]
  },
  {
   "cell_type": "code",
   "execution_count": 13,
   "id": "ed769fe4",
   "metadata": {},
   "outputs": [
    {
     "ename": "SyntaxError",
     "evalue": "invalid syntax (1135476472.py, line 1)",
     "output_type": "error",
     "traceback": [
      "\u001b[0;36m  Cell \u001b[0;32mIn[13], line 1\u001b[0;36m\u001b[0m\n\u001b[0;31m    streamlit run\u001b[0m\n\u001b[0m              ^\u001b[0m\n\u001b[0;31mSyntaxError\u001b[0m\u001b[0;31m:\u001b[0m invalid syntax\n"
     ]
    }
   ],
   "source": [
    "streamlit run"
   ]
  },
  {
   "cell_type": "code",
   "execution_count": 14,
   "id": "aa68c724",
   "metadata": {},
   "outputs": [
    {
     "ename": "SyntaxError",
     "evalue": "invalid syntax (1378058469.py, line 1)",
     "output_type": "error",
     "traceback": [
      "\u001b[0;36m  Cell \u001b[0;32mIn[14], line 1\u001b[0;36m\u001b[0m\n\u001b[0;31m    streamlit run /Users/nathan/anaconda3/envs/ifoHack/lib/python3.10/site-packages/ipykernel_launcher.py [ARGUMENTS]\u001b[0m\n\u001b[0m              ^\u001b[0m\n\u001b[0;31mSyntaxError\u001b[0m\u001b[0;31m:\u001b[0m invalid syntax\n"
     ]
    }
   ],
   "source": [
    "streamlit run /Users/nathan/anaconda3/envs/ifoHack/lib/python3.10/site-packages/ipykernel_launcher.py [ARGUMENTS]"
   ]
  },
  {
   "cell_type": "code",
   "execution_count": null,
   "id": "0d8d9929",
   "metadata": {},
   "outputs": [],
   "source": [
    "streamlit run /Users/nathan/anaconda3/envs/ifoHack/lib/python3.10/site-packages/ipykernel_launcher.py [ARGUMENTS]"
   ]
  }
 ],
 "metadata": {
  "kernelspec": {
   "display_name": "Python 3 (ipykernel)",
   "language": "python",
   "name": "python3"
  },
  "language_info": {
   "codemirror_mode": {
    "name": "ipython",
    "version": 3
   },
   "file_extension": ".py",
   "mimetype": "text/x-python",
   "name": "python",
   "nbconvert_exporter": "python",
   "pygments_lexer": "ipython3",
   "version": "3.10.10"
  }
 },
 "nbformat": 4,
 "nbformat_minor": 5
}
