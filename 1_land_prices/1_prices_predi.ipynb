{
 "cells": [
  {
   "cell_type": "code",
   "execution_count": 1,
   "metadata": {},
   "outputs": [],
   "source": [
    "import geopandas as gpd\n",
    "import pandas as pd\n",
    "import matplotlib.pyplot as plt"
   ]
  },
  {
   "cell_type": "code",
   "execution_count": 4,
   "metadata": {},
   "outputs": [
    {
     "data": {
      "text/html": [
       "<div>\n",
       "<style scoped>\n",
       "    .dataframe tbody tr th:only-of-type {\n",
       "        vertical-align: middle;\n",
       "    }\n",
       "\n",
       "    .dataframe tbody tr th {\n",
       "        vertical-align: top;\n",
       "    }\n",
       "\n",
       "    .dataframe thead th {\n",
       "        text-align: right;\n",
       "    }\n",
       "</style>\n",
       "<table border=\"1\" class=\"dataframe\">\n",
       "  <thead>\n",
       "    <tr style=\"text-align: right;\">\n",
       "      <th></th>\n",
       "      <th>;Neighborhood_FID;Land_Value;Area_Types;Area_Count;City_Name</th>\n",
       "    </tr>\n",
       "  </thead>\n",
       "  <tbody>\n",
       "    <tr>\n",
       "      <th>0</th>\n",
       "      <td>0;1;9238.7;MixedUseArea_Residential_SpecialUse...</td>\n",
       "    </tr>\n",
       "    <tr>\n",
       "      <th>1</th>\n",
       "      <td>1;2;3658.7;CommercialBuildingArea_MixedUseArea...</td>\n",
       "    </tr>\n",
       "    <tr>\n",
       "      <th>2</th>\n",
       "      <td>2;3;2452.0;Residential;3;Berlin</td>\n",
       "    </tr>\n",
       "    <tr>\n",
       "      <th>3</th>\n",
       "      <td>3;4;7877.8;MixedUseArea_Residential_SpecialUse...</td>\n",
       "    </tr>\n",
       "    <tr>\n",
       "      <th>4</th>\n",
       "      <td>4;5;1726.8;CommercialBuildingArea_MixedUseArea...</td>\n",
       "    </tr>\n",
       "    <tr>\n",
       "      <th>...</th>\n",
       "      <td>...</td>\n",
       "    </tr>\n",
       "    <tr>\n",
       "      <th>91</th>\n",
       "      <td>91;92;577.6;CommercialBuildingArea_Residential...</td>\n",
       "    </tr>\n",
       "    <tr>\n",
       "      <th>92</th>\n",
       "      <td>92;93;513.6;Residential_SpecialUseArea;9;Berlin</td>\n",
       "    </tr>\n",
       "    <tr>\n",
       "      <th>93</th>\n",
       "      <td>93;94;536.4;CommercialBuildingArea_Residential...</td>\n",
       "    </tr>\n",
       "    <tr>\n",
       "      <th>94</th>\n",
       "      <td>94;95;686.0;CommercialBuildingArea_Residential...</td>\n",
       "    </tr>\n",
       "    <tr>\n",
       "      <th>95</th>\n",
       "      <td>95;96;520.0;Residential;1;Berlin</td>\n",
       "    </tr>\n",
       "  </tbody>\n",
       "</table>\n",
       "<p>96 rows × 1 columns</p>\n",
       "</div>"
      ],
      "text/plain": [
       "   ;Neighborhood_FID;Land_Value;Area_Types;Area_Count;City_Name\n",
       "0   0;1;9238.7;MixedUseArea_Residential_SpecialUse...          \n",
       "1   1;2;3658.7;CommercialBuildingArea_MixedUseArea...          \n",
       "2                     2;3;2452.0;Residential;3;Berlin          \n",
       "3   3;4;7877.8;MixedUseArea_Residential_SpecialUse...          \n",
       "4   4;5;1726.8;CommercialBuildingArea_MixedUseArea...          \n",
       "..                                                ...          \n",
       "91  91;92;577.6;CommercialBuildingArea_Residential...          \n",
       "92    92;93;513.6;Residential_SpecialUseArea;9;Berlin          \n",
       "93  93;94;536.4;CommercialBuildingArea_Residential...          \n",
       "94  94;95;686.0;CommercialBuildingArea_Residential...          \n",
       "95                   95;96;520.0;Residential;1;Berlin          \n",
       "\n",
       "[96 rows x 1 columns]"
      ]
     },
     "execution_count": 4,
     "metadata": {},
     "output_type": "execute_result"
    }
   ],
   "source": [
    "berlin_data = pd.read_csv(\"/Users/giovanafalcao/Desktop/GitHub/land_prices/Land_Prices_Neighborhood_Berlin.csv\")\n",
    "berlin_data"
   ]
  },
  {
   "cell_type": "code",
   "execution_count": null,
   "metadata": {},
   "outputs": [],
   "source": []
  }
 ],
 "metadata": {
  "kernelspec": {
   "display_name": "name_env",
   "language": "python",
   "name": "python3"
  },
  "language_info": {
   "codemirror_mode": {
    "name": "ipython",
    "version": 3
   },
   "file_extension": ".py",
   "mimetype": "text/x-python",
   "name": "python",
   "nbconvert_exporter": "python",
   "pygments_lexer": "ipython3",
   "version": "3.11.3"
  },
  "orig_nbformat": 4
 },
 "nbformat": 4,
 "nbformat_minor": 2
}
